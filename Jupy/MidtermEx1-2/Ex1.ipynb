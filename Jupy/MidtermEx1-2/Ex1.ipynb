{
 "cells": [
  {
   "cell_type": "code",
   "execution_count": 121,
   "metadata": {},
   "outputs": [],
   "source": [
    "import numpy as np\n",
    "import pandas as pd\n",
    "from sklearn.model_selection import train_test_split, GridSearchCV, KFold\n",
    "from sklearn import tree\n",
    "from sklearn.tree import DecisionTreeClassifier\n",
    "from sklearn.metrics import accuracy_score,classification_report"
   ]
  },
  {
   "attachments": {},
   "cell_type": "markdown",
   "metadata": {},
   "source": [
    "Train/ Split the First data set"
   ]
  },
  {
   "cell_type": "code",
   "execution_count": 122,
   "metadata": {},
   "outputs": [],
   "source": [
    "df = pd.read_csv('Ex1-Class-train-1.csv')"
   ]
  },
  {
   "cell_type": "code",
   "execution_count": 123,
   "metadata": {},
   "outputs": [],
   "source": [
    "df = df.fillna(\"0\")"
   ]
  },
  {
   "cell_type": "code",
   "execution_count": 124,
   "metadata": {},
   "outputs": [
    {
     "name": "stdout",
     "output_type": "stream",
     "text": [
      "No. of training examples: 343\n",
      "No. of testing examples: 147\n"
     ]
    }
   ],
   "source": [
    "#   Print out size space of this data\n",
    "training_data, testing_data = train_test_split(df, test_size=0.3, random_state=42)\n",
    "\n",
    "print(f\"No. of training examples: {training_data.shape[0]}\")\n",
    "print(f\"No. of testing examples: {testing_data.shape[0]}\")"
   ]
  },
  {
   "cell_type": "code",
   "execution_count": 125,
   "metadata": {},
   "outputs": [],
   "source": [
    "x3 = []\n",
    "x4 = []\n",
    "x5 = []\n",
    "for i in df['x3'].values:\n",
    "    x3.append(ord(i))\n",
    "for j in df['x4'].values:\n",
    "    x4.append(ord(j))\n",
    "for k in df['x5'].values:\n",
    "    x5.append(ord(k))\n",
    "\n",
    "df['x3'] = x3\n",
    "df['x4'] = x4\n",
    "df['x5'] = x5"
   ]
  },
  {
   "cell_type": "code",
   "execution_count": 126,
   "metadata": {},
   "outputs": [],
   "source": [
    "X = df.iloc[:,1:11] \n",
    "Y = df.iloc[:,-1]   # df.y"
   ]
  },
  {
   "cell_type": "code",
   "execution_count": 127,
   "metadata": {},
   "outputs": [],
   "source": [
    "#   Train/Split data\n",
    "x_train,x_test,y_train,y_test=train_test_split(X,Y, test_size=0.30,random_state=1)  # 42\n",
    "# x_train,x_test,y_train,y_test=train_test_split(X,Y, test_size=0.2,random_state=99)  # 42"
   ]
  },
  {
   "cell_type": "code",
   "execution_count": 128,
   "metadata": {},
   "outputs": [
    {
     "name": "stdout",
     "output_type": "stream",
     "text": [
      "         id     x1     x2   x3   x4   x5     x6     x7     x8     x9    x10  y\n",
      "0    id-001  22.34   0.56  103  111  117   9.43  25.38 -20.91 -25.84   4.08  B\n",
      "1    id-002  -2.31   7.36  105  112  121  -3.94      0  31.65  12.95   9.82  C\n",
      "2    id-003 -17.55  -4.09  102  108  118 -11.02  -1.77 -17.57  15.98  11.43  D\n",
      "3    id-004 -13.54  -5.42  103  112  120   4.11   2.22  16.72   9.86  16.43  A\n",
      "4    id-005  13.39   -3.2  105  108  118   2.23  11.76   1.34   4.16  -6.49  B\n",
      "..      ...    ...    ...  ...  ...  ...    ...    ...    ...    ...    ... ..\n",
      "485  id-486  12.54   3.16  104  109  118  -3.49 -16.43   -3.7  -4.12  -2.83  D\n",
      "486  id-487    8.1  -2.49  105  109  117 -10.61  -1.63  -8.81   18.6  10.92  B\n",
      "487  id-488  13.72 -10.59  105  109  121 -32.73  -3.94      0   8.97   -8.3  C\n",
      "488  id-489  -6.12  -6.37  101  109  117  22.34  -4.66 -10.86 -17.77  -0.21  C\n",
      "489  id-490  -4.73 -10.89  103  110  120 -20.01  16.22  -9.36   9.43  -2.02  B\n",
      "\n",
      "[490 rows x 12 columns]\n",
      "id     0\n",
      "x1     0\n",
      "x2     0\n",
      "x3     0\n",
      "x4     0\n",
      "x5     0\n",
      "x6     0\n",
      "x7     0\n",
      "x8     0\n",
      "x9     0\n",
      "x10    0\n",
      "y      0\n",
      "dtype: int64\n"
     ]
    }
   ],
   "source": [
    "print(df)\n",
    "print(df.isnull().sum())"
   ]
  },
  {
   "attachments": {},
   "cell_type": "markdown",
   "metadata": {},
   "source": [
    "Find best K value (GridSearchCV)"
   ]
  },
  {
   "cell_type": "code",
   "execution_count": 129,
   "metadata": {},
   "outputs": [
    {
     "data": {
      "text/plain": [
       "{'n_neighbors': 19}"
      ]
     },
     "execution_count": 129,
     "metadata": {},
     "output_type": "execute_result"
    }
   ],
   "source": [
    "from sklearn.neighbors import KNeighborsClassifier\n",
    "knn = KNeighborsClassifier()\n",
    "\n",
    "cv = KFold(n_splits=10, random_state=1, shuffle=True)\n",
    "\n",
    "grid_params_knn = { 'n_neighbors' : range(1,20)}\n",
    "\n",
    "gs = GridSearchCV(KNeighborsClassifier(), grid_params_knn, cv=cv)\n",
    "gs.fit(x_train, y_train)\n",
    "gs.best_params_"
   ]
  },
  {
   "cell_type": "code",
   "execution_count": 130,
   "metadata": {},
   "outputs": [
    {
     "data": {
      "text/plain": [
       "0.6802721088435374"
      ]
     },
     "execution_count": 130,
     "metadata": {},
     "output_type": "execute_result"
    }
   ],
   "source": [
    "#   Grid score after hyperparameter tuning\n",
    "knn_final = KNeighborsClassifier(n_neighbors = 19)\n",
    "knn_final.fit(x_train, y_train)\n",
    "knn_final.score(x_test,y_test)"
   ]
  },
  {
   "attachments": {},
   "cell_type": "markdown",
   "metadata": {},
   "source": [
    "Train/ Split the Second data set"
   ]
  },
  {
   "cell_type": "code",
   "execution_count": 131,
   "metadata": {},
   "outputs": [],
   "source": [
    "df1 = pd.read_csv('Ex1-Class-unseen-1.csv')"
   ]
  },
  {
   "cell_type": "code",
   "execution_count": 132,
   "metadata": {},
   "outputs": [],
   "source": [
    "df1 = df1.fillna(\"0\")"
   ]
  },
  {
   "cell_type": "code",
   "execution_count": 133,
   "metadata": {},
   "outputs": [],
   "source": [
    "x3_new = []\n",
    "x4_new = []\n",
    "x5_new = []\n",
    "for i in df1['x3'].values:\n",
    "    x3_new.append(ord(i))\n",
    "for j in df1['x4'].values:\n",
    "    x4_new.append(ord(j))\n",
    "for k in df1['x5'].values:\n",
    "    x5_new.append(ord(k))\n",
    "\n",
    "df1['x3'] = x3_new\n",
    "df1['x4'] = x4_new\n",
    "df1['x5'] = x5_new"
   ]
  },
  {
   "cell_type": "code",
   "execution_count": 111,
   "metadata": {},
   "outputs": [],
   "source": [
    "X1 = df1.iloc[:,1:11]\n",
    "Y1 = df1.iloc[:,-1]   # df.y\n",
    "\n",
    "x1_train,x1_test,y1_train,y1_test=train_test_split(X1,Y1, test_size=0.3,random_state=1) # 42\n",
    "# x1_train,x1_test,y1_train,y1_test=train_test_split(X1,Y1, test_size=0.2,random_state=99)  # 42"
   ]
  },
  {
   "cell_type": "code",
   "execution_count": 134,
   "metadata": {},
   "outputs": [
    {
     "data": {
      "text/plain": [
       "0.673469387755102"
      ]
     },
     "execution_count": 134,
     "metadata": {},
     "output_type": "execute_result"
    }
   ],
   "source": [
    "knn_new = KNeighborsClassifier(n_neighbors = 19)\n",
    "knn_new.fit(x_train, y_train)\n",
    "y_pred = knn_new.predict(X1)\n",
    "knn_new.score(x_train, y_train)"
   ]
  },
  {
   "cell_type": "code",
   "execution_count": 135,
   "metadata": {},
   "outputs": [
    {
     "data": {
      "text/plain": [
       "array(['D', 'A', 'A', 'B', 'B', 'D', 'B', 'C', 'A', 'D'], dtype=object)"
      ]
     },
     "execution_count": 135,
     "metadata": {},
     "output_type": "execute_result"
    }
   ],
   "source": [
    "knn_new.predict(X1)"
   ]
  },
  {
   "cell_type": "code",
   "execution_count": 136,
   "metadata": {},
   "outputs": [],
   "source": [
    "diag = pd.DataFrame(y_pred, columns = ['Predicted y'])"
   ]
  },
  {
   "cell_type": "code",
   "execution_count": 137,
   "metadata": {},
   "outputs": [
    {
     "data": {
      "text/html": [
       "<div>\n",
       "<style scoped>\n",
       "    .dataframe tbody tr th:only-of-type {\n",
       "        vertical-align: middle;\n",
       "    }\n",
       "\n",
       "    .dataframe tbody tr th {\n",
       "        vertical-align: top;\n",
       "    }\n",
       "\n",
       "    .dataframe thead th {\n",
       "        text-align: right;\n",
       "    }\n",
       "</style>\n",
       "<table border=\"1\" class=\"dataframe\">\n",
       "  <thead>\n",
       "    <tr style=\"text-align: right;\">\n",
       "      <th></th>\n",
       "      <th>id</th>\n",
       "      <th>Predicted y</th>\n",
       "    </tr>\n",
       "  </thead>\n",
       "  <tbody>\n",
       "    <tr>\n",
       "      <th>0</th>\n",
       "      <td>Q01</td>\n",
       "      <td>D</td>\n",
       "    </tr>\n",
       "    <tr>\n",
       "      <th>1</th>\n",
       "      <td>Q02</td>\n",
       "      <td>A</td>\n",
       "    </tr>\n",
       "    <tr>\n",
       "      <th>2</th>\n",
       "      <td>Q03</td>\n",
       "      <td>A</td>\n",
       "    </tr>\n",
       "    <tr>\n",
       "      <th>3</th>\n",
       "      <td>Q04</td>\n",
       "      <td>B</td>\n",
       "    </tr>\n",
       "    <tr>\n",
       "      <th>4</th>\n",
       "      <td>Q05</td>\n",
       "      <td>B</td>\n",
       "    </tr>\n",
       "    <tr>\n",
       "      <th>5</th>\n",
       "      <td>Q06</td>\n",
       "      <td>D</td>\n",
       "    </tr>\n",
       "    <tr>\n",
       "      <th>6</th>\n",
       "      <td>Q07</td>\n",
       "      <td>B</td>\n",
       "    </tr>\n",
       "    <tr>\n",
       "      <th>7</th>\n",
       "      <td>Q08</td>\n",
       "      <td>C</td>\n",
       "    </tr>\n",
       "    <tr>\n",
       "      <th>8</th>\n",
       "      <td>Q09</td>\n",
       "      <td>A</td>\n",
       "    </tr>\n",
       "    <tr>\n",
       "      <th>9</th>\n",
       "      <td>Q10</td>\n",
       "      <td>D</td>\n",
       "    </tr>\n",
       "  </tbody>\n",
       "</table>\n",
       "</div>"
      ],
      "text/plain": [
       "    id Predicted y\n",
       "0  Q01           D\n",
       "1  Q02           A\n",
       "2  Q03           A\n",
       "3  Q04           B\n",
       "4  Q05           B\n",
       "5  Q06           D\n",
       "6  Q07           B\n",
       "7  Q08           C\n",
       "8  Q09           A\n",
       "9  Q10           D"
      ]
     },
     "execution_count": 137,
     "metadata": {},
     "output_type": "execute_result"
    }
   ],
   "source": [
    "compare = pd.merge(df1['id'], diag,  left_index=True, right_index=True)\n",
    "compare"
   ]
  },
  {
   "attachments": {},
   "cell_type": "markdown",
   "metadata": {},
   "source": [
    "WTF"
   ]
  },
  {
   "attachments": {},
   "cell_type": "markdown",
   "metadata": {},
   "source": [
    "FUCK THSEE"
   ]
  },
  {
   "cell_type": "code",
   "execution_count": 115,
   "metadata": {},
   "outputs": [
    {
     "data": {
      "text/html": [
       "<style>#sk-container-id-4 {color: black;background-color: white;}#sk-container-id-4 pre{padding: 0;}#sk-container-id-4 div.sk-toggleable {background-color: white;}#sk-container-id-4 label.sk-toggleable__label {cursor: pointer;display: block;width: 100%;margin-bottom: 0;padding: 0.3em;box-sizing: border-box;text-align: center;}#sk-container-id-4 label.sk-toggleable__label-arrow:before {content: \"▸\";float: left;margin-right: 0.25em;color: #696969;}#sk-container-id-4 label.sk-toggleable__label-arrow:hover:before {color: black;}#sk-container-id-4 div.sk-estimator:hover label.sk-toggleable__label-arrow:before {color: black;}#sk-container-id-4 div.sk-toggleable__content {max-height: 0;max-width: 0;overflow: hidden;text-align: left;background-color: #f0f8ff;}#sk-container-id-4 div.sk-toggleable__content pre {margin: 0.2em;color: black;border-radius: 0.25em;background-color: #f0f8ff;}#sk-container-id-4 input.sk-toggleable__control:checked~div.sk-toggleable__content {max-height: 200px;max-width: 100%;overflow: auto;}#sk-container-id-4 input.sk-toggleable__control:checked~label.sk-toggleable__label-arrow:before {content: \"▾\";}#sk-container-id-4 div.sk-estimator input.sk-toggleable__control:checked~label.sk-toggleable__label {background-color: #d4ebff;}#sk-container-id-4 div.sk-label input.sk-toggleable__control:checked~label.sk-toggleable__label {background-color: #d4ebff;}#sk-container-id-4 input.sk-hidden--visually {border: 0;clip: rect(1px 1px 1px 1px);clip: rect(1px, 1px, 1px, 1px);height: 1px;margin: -1px;overflow: hidden;padding: 0;position: absolute;width: 1px;}#sk-container-id-4 div.sk-estimator {font-family: monospace;background-color: #f0f8ff;border: 1px dotted black;border-radius: 0.25em;box-sizing: border-box;margin-bottom: 0.5em;}#sk-container-id-4 div.sk-estimator:hover {background-color: #d4ebff;}#sk-container-id-4 div.sk-parallel-item::after {content: \"\";width: 100%;border-bottom: 1px solid gray;flex-grow: 1;}#sk-container-id-4 div.sk-label:hover label.sk-toggleable__label {background-color: #d4ebff;}#sk-container-id-4 div.sk-serial::before {content: \"\";position: absolute;border-left: 1px solid gray;box-sizing: border-box;top: 0;bottom: 0;left: 50%;z-index: 0;}#sk-container-id-4 div.sk-serial {display: flex;flex-direction: column;align-items: center;background-color: white;padding-right: 0.2em;padding-left: 0.2em;position: relative;}#sk-container-id-4 div.sk-item {position: relative;z-index: 1;}#sk-container-id-4 div.sk-parallel {display: flex;align-items: stretch;justify-content: center;background-color: white;position: relative;}#sk-container-id-4 div.sk-item::before, #sk-container-id-4 div.sk-parallel-item::before {content: \"\";position: absolute;border-left: 1px solid gray;box-sizing: border-box;top: 0;bottom: 0;left: 50%;z-index: -1;}#sk-container-id-4 div.sk-parallel-item {display: flex;flex-direction: column;z-index: 1;position: relative;background-color: white;}#sk-container-id-4 div.sk-parallel-item:first-child::after {align-self: flex-end;width: 50%;}#sk-container-id-4 div.sk-parallel-item:last-child::after {align-self: flex-start;width: 50%;}#sk-container-id-4 div.sk-parallel-item:only-child::after {width: 0;}#sk-container-id-4 div.sk-dashed-wrapped {border: 1px dashed gray;margin: 0 0.4em 0.5em 0.4em;box-sizing: border-box;padding-bottom: 0.4em;background-color: white;}#sk-container-id-4 div.sk-label label {font-family: monospace;font-weight: bold;display: inline-block;line-height: 1.2em;}#sk-container-id-4 div.sk-label-container {text-align: center;}#sk-container-id-4 div.sk-container {/* jupyter's `normalize.less` sets `[hidden] { display: none; }` but bootstrap.min.css set `[hidden] { display: none !important; }` so we also need the `!important` here to be able to override the default hidden behavior on the sphinx rendered scikit-learn.org. See: https://github.com/scikit-learn/scikit-learn/issues/21755 */display: inline-block !important;position: relative;}#sk-container-id-4 div.sk-text-repr-fallback {display: none;}</style><div id=\"sk-container-id-4\" class=\"sk-top-container\"><div class=\"sk-text-repr-fallback\"><pre>DecisionTreeClassifier()</pre><b>In a Jupyter environment, please rerun this cell to show the HTML representation or trust the notebook. <br />On GitHub, the HTML representation is unable to render, please try loading this page with nbviewer.org.</b></div><div class=\"sk-container\" hidden><div class=\"sk-item\"><div class=\"sk-estimator sk-toggleable\"><input class=\"sk-toggleable__control sk-hidden--visually\" id=\"sk-estimator-id-4\" type=\"checkbox\" checked><label for=\"sk-estimator-id-4\" class=\"sk-toggleable__label sk-toggleable__label-arrow\">DecisionTreeClassifier</label><div class=\"sk-toggleable__content\"><pre>DecisionTreeClassifier()</pre></div></div></div></div></div>"
      ],
      "text/plain": [
       "DecisionTreeClassifier()"
      ]
     },
     "execution_count": 115,
     "metadata": {},
     "output_type": "execute_result"
    }
   ],
   "source": [
    "model = tree.DecisionTreeClassifier()\n",
    "# model.fit(X, Y)\n",
    "model.fit(x_train, y_train)\n",
    "model"
   ]
  },
  {
   "cell_type": "code",
   "execution_count": 116,
   "metadata": {},
   "outputs": [
    {
     "data": {
      "text/plain": [
       "array(['C', 'A', 'C', 'D', 'B', 'C', 'B', 'A', 'B', 'D', 'D', 'B', 'A',\n",
       "       'D', 'B', 'B', 'D', 'D', 'A', 'D', 'D', 'C', 'A', 'C', 'D', 'D',\n",
       "       'B', 'C', 'A', 'D', 'B', 'A', 'A', 'C', 'C', 'A', 'A', 'A', 'A',\n",
       "       'A', 'C', 'C', 'A', 'B', 'C', 'D', 'A', 'C', 'B', 'C', 'A', 'B',\n",
       "       'D', 'B', 'C', 'A', 'C', 'C', '0', 'C', 'A', 'C', 'B', 'D', 'D',\n",
       "       'C', 'C', 'C', 'D', 'B', 'B', 'D', 'B', 'D', 'D', 'B', 'B', 'C',\n",
       "       'C', 'C', 'C', '0', '0', 'B', 'B', 'C', 'C', 'B', 'A', 'D', 'A',\n",
       "       'A', 'D', 'B', 'A', 'A', 'D', 'D', 'D', 'B', 'B', 'C', 'A', 'C',\n",
       "       'D', 'B', 'B', 'B', 'A', 'B', 'B', 'B', 'D', 'B', 'D', 'A', 'B',\n",
       "       'C', 'A', 'A', 'B', 'C', 'B', 'D', 'D', 'B', 'A', 'B', 'B', 'D',\n",
       "       'B', 'C', 'C', 'D', 'D', 'D', 'D', 'A', 'C', 'C', 'D', 'A', 'D',\n",
       "       'D', 'D', 'B', 'A'], dtype=object)"
      ]
     },
     "execution_count": 116,
     "metadata": {},
     "output_type": "execute_result"
    }
   ],
   "source": [
    "#   model prediction\n",
    "pred = model.predict(x_test)\n",
    "pred"
   ]
  },
  {
   "cell_type": "code",
   "execution_count": 117,
   "metadata": {},
   "outputs": [
    {
     "name": "stdout",
     "output_type": "stream",
     "text": [
      "              precision    recall  f1-score   support\n",
      "\n",
      "           0       0.33      0.17      0.22         6\n",
      "           A       0.66      0.58      0.62        36\n",
      "           B       0.59      0.62      0.61        37\n",
      "           C       0.60      0.62      0.61        34\n",
      "           D       0.58      0.65      0.61        34\n",
      "\n",
      "    accuracy                           0.60       147\n",
      "   macro avg       0.55      0.53      0.53       147\n",
      "weighted avg       0.60      0.60      0.59       147\n",
      "\n"
     ]
    }
   ],
   "source": [
    "#   Model Performance\n",
    "y_predict = model.predict(x_test)\n",
    "print(classification_report(y_test,y_predict))"
   ]
  },
  {
   "cell_type": "code",
   "execution_count": 118,
   "metadata": {},
   "outputs": [
    {
     "data": {
      "text/plain": [
       "0.5986394557823129"
      ]
     },
     "execution_count": 118,
     "metadata": {},
     "output_type": "execute_result"
    }
   ],
   "source": [
    "#   Test Accuracy\n",
    "accuracy_score(y_test,y_predict)"
   ]
  },
  {
   "attachments": {},
   "cell_type": "markdown",
   "metadata": {},
   "source": [
    "Prediction for unseen data"
   ]
  },
  {
   "cell_type": "code",
   "execution_count": 119,
   "metadata": {},
   "outputs": [
    {
     "data": {
      "text/plain": [
       "array(['D', 'A', 'D', 'B', 'B', 'D', 'B', 'D', 'A', 'D'], dtype=object)"
      ]
     },
     "execution_count": 119,
     "metadata": {},
     "output_type": "execute_result"
    }
   ],
   "source": [
    "new_pred = model.predict(X1)\n",
    "new_pred"
   ]
  }
 ],
 "metadata": {
  "kernelspec": {
   "display_name": "Python 3",
   "language": "python",
   "name": "python3"
  },
  "language_info": {
   "codemirror_mode": {
    "name": "ipython",
    "version": 3
   },
   "file_extension": ".py",
   "mimetype": "text/x-python",
   "name": "python",
   "nbconvert_exporter": "python",
   "pygments_lexer": "ipython3",
   "version": "3.10.10"
  },
  "orig_nbformat": 4,
  "vscode": {
   "interpreter": {
    "hash": "a80aaef78a180117478b2fab9e6f7c70cecf297ced54807c091e62a9570573ea"
   }
  }
 },
 "nbformat": 4,
 "nbformat_minor": 2
}
